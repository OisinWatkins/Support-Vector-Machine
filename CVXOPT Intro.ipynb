{
 "cells": [
  {
   "cell_type": "markdown",
   "metadata": {},
   "source": [
    "# Using the CVXOPT Package to solve SVM Problems"
   ]
  },
  {
   "cell_type": "markdown",
   "metadata": {},
   "source": [
    "CVXOPT is a free solver system for constrained optimistion problems (http://cvxopt.org) with an interface written in Python.\n",
    "\n",
    "The interface is similar to that provided by Numpy, the only issue being that CVXOPT has its own notion of matrices and vectors, so programs using CVXOPT have to employ these CVXOPT versions.  Luckily there is a good interface to Numpy, so Numpy array objects, along with standard Python lists, can easily be translated to CVXOPT matrices.\n",
    "\n",
    "The most important CVXOPT imports are \"matrix\", for matrix construction, and \"solvers\".\n",
    "\n",
    "The CVXOPT \"mul\" function is useful if you want ot do element by element multiplication of matrices (we'll use this below)."
   ]
  },
  {
   "cell_type": "code",
   "execution_count": null,
   "metadata": {},
   "outputs": [],
   "source": [
    "from cvxopt import matrix, solvers, mul"
   ]
  },
  {
   "cell_type": "markdown",
   "metadata": {},
   "source": [
    "Use matrix to build a matrix.  The only issue is that the arguments are in column-major order (the opposite to the Numpy convention).  To create a doube-precision float matrix, make sure that at least one of the entries has a decimal pint (or include the keyword argument \"tc='d'\")."
   ]
  },
  {
   "cell_type": "code",
   "execution_count": null,
   "metadata": {},
   "outputs": [],
   "source": [
    "A = matrix([[2.,0,3],[0,1,4]])   # Creates a 3 row, 2 column matrix."
   ]
  },
  {
   "cell_type": "code",
   "execution_count": null,
   "metadata": {},
   "outputs": [],
   "source": [
    "A                                # Just gives shape and type, not contents."
   ]
  },
  {
   "cell_type": "code",
   "execution_count": null,
   "metadata": {},
   "outputs": [],
   "source": [
    "print(A)                         # Explicit print needed to view contents. Note column-major."
   ]
  },
  {
   "cell_type": "code",
   "execution_count": null,
   "metadata": {},
   "outputs": [],
   "source": [
    "print(matrix(5.0))               # A 1x1 matrix can be created using a single scalar"
   ]
  },
  {
   "cell_type": "code",
   "execution_count": null,
   "metadata": {},
   "outputs": [],
   "source": [
    "vec = matrix([1,1], tc='d')      # Column vectors by default (Nx1 matrices)."
   ]
  },
  {
   "cell_type": "code",
   "execution_count": null,
   "metadata": {},
   "outputs": [],
   "source": [
    "vec"
   ]
  },
  {
   "cell_type": "code",
   "execution_count": null,
   "metadata": {},
   "outputs": [],
   "source": [
    "print(vec)"
   ]
  },
  {
   "cell_type": "code",
   "execution_count": null,
   "metadata": {},
   "outputs": [],
   "source": [
    "print(A*vec)                     # '*' is matrix multiplication in CVXOPT, no \"dot\"."
   ]
  },
  {
   "cell_type": "code",
   "execution_count": null,
   "metadata": {},
   "outputs": [],
   "source": [
    "print(vec.T)                    # To make a row-vector, transpose a column-vector."
   ]
  },
  {
   "cell_type": "code",
   "execution_count": null,
   "metadata": {},
   "outputs": [],
   "source": [
    "vec.T                           # Shape of transpose: 1 row, 2 columns."
   ]
  },
  {
   "cell_type": "code",
   "execution_count": null,
   "metadata": {},
   "outputs": [],
   "source": [
    "print(matrix([[1],[2]]))        # Or you can do this!  Not recommended."
   ]
  },
  {
   "cell_type": "markdown",
   "metadata": {},
   "source": [
    "### Using the 'qp' solver.\n",
    "\n",
    "Here's a manual run-through of building a linear SVM to solve the 2-input OR problem.\n",
    "\n",
    "First create a vector of the desired outputs.  Note that the vector is forced to be a\n",
    "float one because of the decimal point in the first entry.  Alternatively, specify \"tc='d'\" as\n",
    "a keyword in the constructor.\n",
    "\n",
    "It is important to use double-precision float matrices everywhere here, as the \"qp\" solver\n",
    "expects all its arguments to be matrices of double-precision numbers."
   ]
  },
  {
   "cell_type": "code",
   "execution_count": null,
   "metadata": {},
   "outputs": [],
   "source": [
    "t=matrix([-1.,1,1,1])"
   ]
  },
  {
   "cell_type": "markdown",
   "metadata": {},
   "source": [
    "It can be useful to create a cross-product matrix $t_it_j$ of the training inputs and multiply it elementwise by a cross-product matrix of input vectors to create the CVXOPT $P$ matrix."
   ]
  },
  {
   "cell_type": "code",
   "execution_count": null,
   "metadata": {},
   "outputs": [],
   "source": [
    "print(t*t.T)"
   ]
  },
  {
   "cell_type": "markdown",
   "metadata": {},
   "source": [
    "Input vectors $\\vec{x_i}$, One vector per row of the $X$ matrix.  Note the use of \"tc='d'\" keyword to the constructor in order to force double-precision."
   ]
  },
  {
   "cell_type": "code",
   "execution_count": null,
   "metadata": {},
   "outputs": [],
   "source": [
    "X=matrix([[0,0,1,1],[0,1,0,1]], tc='d')"
   ]
  },
  {
   "cell_type": "code",
   "execution_count": null,
   "metadata": {},
   "outputs": [],
   "source": [
    "print(X)"
   ]
  },
  {
   "cell_type": "markdown",
   "metadata": {},
   "source": [
    "Cross-product matrix of input vectors $\\vec{x_i}.\\vec{x_j}$.  \n",
    "\n",
    "For a kernel\n",
    "SVM, you would need to build an $N \\times N$ matrix of the results of applying the kernel\n",
    "function, $K(\\vec{x_i}.\\vec{x_j})$."
   ]
  },
  {
   "cell_type": "code",
   "execution_count": null,
   "metadata": {},
   "outputs": [],
   "source": [
    "print(X*X.T)"
   ]
  },
  {
   "cell_type": "markdown",
   "metadata": {},
   "source": [
    "The $P$ matrix to input to the qp solver is the elementwise product of these two cross-product matrices.  In CVXOPT, the routine \"mul\" provides element by element multiplication of two matrices."
   ]
  },
  {
   "cell_type": "code",
   "execution_count": null,
   "metadata": {},
   "outputs": [],
   "source": [
    "P=mul(t*t.T,X*X.T)"
   ]
  },
  {
   "cell_type": "code",
   "execution_count": null,
   "metadata": {},
   "outputs": [],
   "source": [
    "print(P)"
   ]
  },
  {
   "cell_type": "markdown",
   "metadata": {},
   "source": [
    "Now construct all the other required matrices for the solver.\n",
    "\n",
    "The $\\vec{q }$ vector is supplied to the solver as a <i>column</i> vector of $-1$'s with $N$ elements  (even though the equation for $Q$ shows a row vector, the solver expects this to be supplied as a column vector!)."
   ]
  },
  {
   "cell_type": "code",
   "execution_count": null,
   "metadata": {},
   "outputs": [],
   "source": [
    "q=matrix(4*[-1.0])      #  4*[-1.0] makes a 4-element Python list containing -1's."
   ]
  },
  {
   "cell_type": "markdown",
   "metadata": {},
   "source": [
    "For the hard-margin SVM needed for 2-input OR, the $G$ matrix, needed to handle the constraints $\\lambda_i \\geq 0$, is a $4 \\times 4$ matrix with $-1$'s on its main diagonal and $0$'s elsewhere.  The Numpy \"eye\" function can help with this.\n",
    "\n",
    "Note that the constraints $\\lambda_i \\geq 0$ have to be recast to $-\\lambda_i \\leq 0$ because the qp solver expects its inequality contraints in a matrix-vector equation $G \\vec\\lambda \\leq 0$."
   ]
  },
  {
   "cell_type": "code",
   "execution_count": null,
   "metadata": {},
   "outputs": [],
   "source": [
    "import numpy as np"
   ]
  },
  {
   "cell_type": "code",
   "execution_count": null,
   "metadata": {},
   "outputs": [],
   "source": [
    "G = matrix(-np.eye(4))  # Note the minus sign!  Important!"
   ]
  },
  {
   "cell_type": "code",
   "execution_count": null,
   "metadata": {},
   "outputs": [],
   "source": [
    "G"
   ]
  },
  {
   "cell_type": "code",
   "execution_count": null,
   "metadata": {},
   "outputs": [],
   "source": [
    "print(G)"
   ]
  },
  {
   "cell_type": "markdown",
   "metadata": {},
   "source": [
    "The $\\vec{h}$ vector is also needed.  For this hard-margin SVM, its just a column vector of zeros."
   ]
  },
  {
   "cell_type": "code",
   "execution_count": null,
   "metadata": {},
   "outputs": [],
   "source": [
    "h = matrix(4*[0.0])"
   ]
  },
  {
   "cell_type": "markdown",
   "metadata": {},
   "source": [
    "Finally we can call the solver to find the Lagrange multipliers for the problem.\n",
    "\n",
    "Note that the solver requires a matrix $A$ to handle any <i>equality</i> constraints, which\n",
    "is employs like so: $A\\vec{\\lambda} = \\vec{b}$.  \n",
    "\n",
    "In this problem the equality constraint is $\\sum t_i \\lambda_i = 0$, so we can use the <i>transpose</i> of the $\\vec{t}$ vector for $A$, and a 1-e,emt matrix containing $0.0$ for \n",
    "$\\vec{b}$."
   ]
  },
  {
   "cell_type": "code",
   "execution_count": null,
   "metadata": {},
   "outputs": [],
   "source": [
    "r = solvers.qp(P,q,G,h,t.T,matrix(0.0))"
   ]
  },
  {
   "cell_type": "markdown",
   "metadata": {},
   "source": [
    "If the information printed out by the solver ends with 'Optimal solution found', it has worked and found the Lagrange multipliers for the problem.\n",
    "\n",
    "The solver returns a lot of data about its solition in a Python dictionary object, here $r$."
   ]
  },
  {
   "cell_type": "code",
   "execution_count": null,
   "metadata": {},
   "outputs": [],
   "source": [
    "r"
   ]
  },
  {
   "cell_type": "markdown",
   "metadata": {},
   "source": [
    "The Lagrange multiplers are returned as a CVXOPT matrix under the 'x' key in the dictionary.\n",
    "\n",
    "Note that the slack entry is not exactly zero, instead it is a very small value, close to zero.  This is an artifact of the solver's internal algorithm (a so-called \"interior-point method\"), and is normal behaviour.\n"
   ]
  },
  {
   "cell_type": "code",
   "execution_count": null,
   "metadata": {},
   "outputs": [],
   "source": [
    "print(r['x'])"
   ]
  },
  {
   "cell_type": "markdown",
   "metadata": {},
   "source": [
    "The solution status is returned as a string under the 'status' key.  String 'optimal' means a valid solution has been found."
   ]
  },
  {
   "cell_type": "code",
   "execution_count": null,
   "metadata": {},
   "outputs": [],
   "source": [
    "print(r['status'])"
   ]
  },
  {
   "cell_type": "markdown",
   "metadata": {},
   "source": [
    "It can be convenient to convert the CVXOPT matrix containing the Lagrange multipliers to a more common Python data structure, such as a list."
   ]
  },
  {
   "cell_type": "code",
   "execution_count": null,
   "metadata": {},
   "outputs": [],
   "source": [
    "list(r['x'])"
   ]
  },
  {
   "cell_type": "markdown",
   "metadata": {},
   "source": [
    "This representation prints out more significant digits of the solution and makes it clear that none of the Lagrange values is exact (i.e., [4,2,2,0]).  They all contain numerical noise, and this is to be expected."
   ]
  },
  {
   "cell_type": "code",
   "execution_count": null,
   "metadata": {},
   "outputs": [],
   "source": []
  }
 ],
 "metadata": {
  "kernelspec": {
   "display_name": "Python 3",
   "language": "python",
   "name": "python3"
  },
  "language_info": {
   "codemirror_mode": {
    "name": "ipython",
    "version": 3
   },
   "file_extension": ".py",
   "mimetype": "text/x-python",
   "name": "python",
   "nbconvert_exporter": "python",
   "pygments_lexer": "ipython3",
   "version": "3.5.2"
  }
 },
 "nbformat": 4,
 "nbformat_minor": 2
}
